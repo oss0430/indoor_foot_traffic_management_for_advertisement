{
 "cells": [
  {
   "cell_type": "markdown",
   "metadata": {},
   "source": []
  },
  {
   "cell_type": "code",
   "execution_count": 1,
   "metadata": {},
   "outputs": [],
   "source": [
    "from analyzer import Analyzer, TestSubject\n",
    "import sklearn\n",
    "import json\n",
    "import pandas as pd\n",
    "import datetime"
   ]
  },
  {
   "attachments": {},
   "cell_type": "markdown",
   "metadata": {},
   "source": [
    "Setting Up TEST_SUBJECTS"
   ]
  },
  {
   "cell_type": "code",
   "execution_count": 2,
   "metadata": {},
   "outputs": [
    {
     "name": "stdout",
     "output_type": "stream",
     "text": [
      "A:\n",
      "Test Period : 2022/12/01 00:00:00 ~ 2022/12/03 00:00:00\n",
      "Target Item : Apple\n",
      " Located At : 4.2, -1.3\n",
      "B:\n",
      "Test Period : 2022/12/03 00:00:00 ~ 2022/12/05 00:00:00\n",
      "Target Item : Apple\n",
      " Located At : 4.2, -1.3\n"
     ]
    }
   ],
   "source": [
    "control_start = datetime.datetime(year=2022, month=12, day=1)\n",
    "control_end   = datetime.datetime(year=2022, month=12, day=3)\n",
    "\n",
    "variant_start = datetime.datetime(year=2022, month=12, day=3)\n",
    "variant_end   = datetime.datetime(year=2022, month=12, day=5)\n",
    "\n",
    "control_subject = TestSubject(name=\"A\", tested_from=control_start, tested_till=control_end, item_name=\"Apple\", item_x = 4.2, item_y= -1.3)\n",
    "variant_subject = TestSubject(name=\"B\", tested_from=variant_start, tested_till=variant_end, item_name=\"Apple\", item_x = 4.2, item_y= -1.3)\n",
    "\n",
    "print(control_subject.to_string())\n",
    "print(variant_subject.to_string())"
   ]
  },
  {
   "attachments": {},
   "cell_type": "markdown",
   "metadata": {},
   "source": [
    "LOADING DATAS"
   ]
  },
  {
   "cell_type": "code",
   "execution_count": 3,
   "metadata": {},
   "outputs": [
    {
     "name": "stdout",
     "output_type": "stream",
     "text": [
      "   facecount  device_id      date   time                sample_time\n",
      "0          0          0  20221208  14952 1970-08-23 01:00:08.014953\n",
      "1          0          0  20221208  15308 1970-08-23 01:00:08.015309\n",
      "2          0          0  20221208  15644 1970-08-23 01:00:08.015645\n",
      "3          0          0  20221208  15539 1970-08-23 01:00:08.015551\n",
      "4          0          0  20221208  15749 1970-08-23 01:00:08.015749\n",
      "       y      date  user_id    time      x\n",
      "0 -0.860  20221201    11143  103834  0.562\n",
      "1 -0.438  20221201    11143  103840  1.348\n",
      "2 -0.438  20221201    11143  103845  1.348\n",
      "3 -0.286  20221201    11143  103849  1.403\n",
      "4 -0.286  20221201    11143  103853  1.403\n",
      "   count      date product_name    price  product_id market_name\n",
      "0     14  20221201        Apple  1250000       11343   iPhone 14\n",
      "1      2  20221202        Apple  1250000       11343   iPhone 14\n",
      "2      5  20221203        Apple  1250000       11343   iPhone 14\n",
      "3      8  20221204        Apple  1250000       11343   iPhone 14\n"
     ]
    }
   ],
   "source": [
    "df_face_count = pd.read_json(\"aws_get_data/test_face_count_data.json\")\n",
    "df_local_data = pd.read_json(\"aws_get_data/test_local_data.json\")\n",
    "df_point_of_sale = pd.read_json(\"aws_get_data/test_point_of_sales_data.json\")\n",
    "\n",
    "print(df_face_count.head(5))\n",
    "print(df_local_data.head(5))\n",
    "print(df_point_of_sale.head(5))"
   ]
  },
  {
   "cell_type": "code",
   "execution_count": 4,
   "metadata": {},
   "outputs": [
    {
     "name": "stdout",
     "output_type": "stream",
     "text": [
      "[   count      date product_name    price  product_id market_name name\n",
      "0     14  20221201        Apple  1250000       11343   iPhone 14    A\n",
      "1      2  20221202        Apple  1250000       11343   iPhone 14    A,    count      date product_name    price  product_id market_name name\n",
      "2      5  20221203        Apple  1250000       11343   iPhone 14    B\n",
      "3      8  20221204        Apple  1250000       11343   iPhone 14    B]\n",
      "       y      date  user_id    time      x name\n",
      "0 -0.860  20221201    11143  103834  0.562    A\n",
      "1 -0.438  20221201    11143  103840  1.348    A\n",
      "2 -0.438  20221201    11143  103845  1.348    A\n",
      "3 -0.286  20221201    11143  103849  1.403    A\n",
      "4 -0.286  20221201    11143  103853  1.403    A         y      date  user_id    time      x name\n",
      "50 -0.860  20221203    23123  103834  0.562    B\n",
      "51 -0.438  20221203    23123  103840  1.348    B\n",
      "52 -0.438  20221203    23123  103845  1.348    B\n",
      "53 -0.286  20221203    23123  103849  1.403    B\n",
      "54 -0.286  20221203    23123  103853  1.403    B\n",
      "Empty DataFrame\n",
      "Columns: [facecount, device_id, date, time, sample_time, name]\n",
      "Index: [] Empty DataFrame\n",
      "Columns: [facecount, device_id, date, time, sample_time, name]\n",
      "Index: []\n",
      "[{11143: {'time_spent': 0}, 12331: {'time_spent': 0}}, {23123: {'time_spent': 0}, 28818: {'time_spent': 0}}]\n",
      "[2, 2]\n"
     ]
    }
   ],
   "source": [
    "my_analyzer = Analyzer([control_subject, variant_subject], df_point_of_sale, df_local_data, df_face_count)\n"
   ]
  }
 ],
 "metadata": {
  "kernelspec": {
   "display_name": "test0",
   "language": "python",
   "name": "python3"
  },
  "language_info": {
   "codemirror_mode": {
    "name": "ipython",
    "version": 3
   },
   "file_extension": ".py",
   "mimetype": "text/x-python",
   "name": "python",
   "nbconvert_exporter": "python",
   "pygments_lexer": "ipython3",
   "version": "3.10.4"
  },
  "orig_nbformat": 4,
  "vscode": {
   "interpreter": {
    "hash": "3fb28e5f60ac0a265781860a4d5d777f52aa041c474fb0eb8d4ca69097da525c"
   }
  }
 },
 "nbformat": 4,
 "nbformat_minor": 2
}
