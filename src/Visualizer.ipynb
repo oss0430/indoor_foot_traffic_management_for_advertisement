{
 "cells": [
  {
   "cell_type": "markdown",
   "metadata": {},
   "source": []
  },
  {
   "cell_type": "code",
   "execution_count": 1,
   "metadata": {},
   "outputs": [],
   "source": [
    "from analyzer import Analyzer, TestSubject\n",
    "import sklearn\n",
    "import json\n",
    "import pandas as pd\n",
    "import datetime"
   ]
  },
  {
   "attachments": {},
   "cell_type": "markdown",
   "metadata": {},
   "source": [
    "Setting Up TEST_SUBJECTS"
   ]
  },
  {
   "cell_type": "code",
   "execution_count": 2,
   "metadata": {},
   "outputs": [
    {
     "name": "stdout",
     "output_type": "stream",
     "text": [
      "A:\n",
      "Test Period : 2022/12/01 00:00:00 ~ 2022/12/03 00:00:00\n",
      "Target Item : Apple\n",
      " Located At : 4.2, -1.3\n",
      "B:\n",
      "Test Period : 2022/12/03 00:00:00 ~ 2022/12/05 00:00:00\n",
      "Target Item : Apple\n",
      " Located At : 4.2, -1.3\n"
     ]
    }
   ],
   "source": [
    "control_start = datetime.datetime(year=2022, month=12, day=1)\n",
    "control_end   = datetime.datetime(year=2022, month=12, day=3)\n",
    "\n",
    "variant_start = datetime.datetime(year=2022, month=12, day=3)\n",
    "variant_end   = datetime.datetime(year=2022, month=12, day=5)\n",
    "\n",
    "control_subject = TestSubject(name=\"A\", tested_from=control_start, tested_till=control_end, item_name=\"Apple\", item_x = 4.2, item_y= -1.3)\n",
    "variant_subject = TestSubject(name=\"B\", tested_from=variant_start, tested_till=variant_end, item_name=\"Apple\", item_x = 4.2, item_y= -1.3)\n",
    "\n",
    "print(control_subject.to_string())\n",
    "print(variant_subject.to_string())"
   ]
  },
  {
   "attachments": {},
   "cell_type": "markdown",
   "metadata": {},
   "source": [
    "LOADING DATAS"
   ]
  },
  {
   "cell_type": "code",
   "execution_count": 3,
   "metadata": {},
   "outputs": [
    {
     "name": "stdout",
     "output_type": "stream",
     "text": [
      "   facecount  device_id      date   time                sample_time\n",
      "0          0          0  20221208  14952 1970-08-23 01:00:08.014953\n",
      "1          0          0  20221208  15308 1970-08-23 01:00:08.015309\n",
      "2          0          0  20221208  15644 1970-08-23 01:00:08.015645\n",
      "3          0          0  20221208  15539 1970-08-23 01:00:08.015551\n",
      "4          0          0  20221208  15749 1970-08-23 01:00:08.015749\n",
      "       y      date  user_id    time      x\n",
      "0 -0.860  20221208    11143  103834  0.562\n",
      "1 -0.438  20221208    11143  103840  1.348\n",
      "2 -0.438  20221208    11143  103845  1.348\n",
      "3 -0.286  20221208    11143  103849  1.403\n",
      "4 -0.286  20221208    11143  103853  1.403\n",
      "   count     date product_name    price  product_id market_name\n",
      "0     14  2022120        Apple  1250000       11343   iPhone 14\n"
     ]
    }
   ],
   "source": [
    "df_face_count = pd.read_json(\"aws_get_data/test_face_count_data.json\")\n",
    "df_local_data = pd.read_json(\"aws_get_data/test_local_data.json\")\n",
    "df_point_of_sale = pd.read_json(\"aws_get_data/test_point_of_sales_data.json\")\n",
    "\n",
    "print(df_face_count.head(5))\n",
    "print(df_local_data.head(5))\n",
    "print(df_point_of_sale.head(5))"
   ]
  },
  {
   "cell_type": "code",
   "execution_count": 4,
   "metadata": {},
   "outputs": [
    {
     "ename": "TypeError",
     "evalue": "'>=' not supported between instances of 'int' and 'datetime.datetime'",
     "output_type": "error",
     "traceback": [
      "\u001b[0;31m---------------------------------------------------------------------------\u001b[0m",
      "\u001b[0;31mTypeError\u001b[0m                                 Traceback (most recent call last)",
      "\u001b[1;32m/home/iknow/Desktop/IoTProject/src/Visualizer.ipynb Cell 7\u001b[0m in \u001b[0;36m<cell line: 1>\u001b[0;34m()\u001b[0m\n\u001b[0;32m----> <a href='vscode-notebook-cell://ssh-remote%2Biknow-gold/home/iknow/Desktop/IoTProject/src/Visualizer.ipynb#X10sdnNjb2RlLXJlbW90ZQ%3D%3D?line=0'>1</a>\u001b[0m my_analyzer \u001b[39m=\u001b[39m Analyzer([control_subject, variant_subject], df_point_of_sale, df_local_data, df_face_count)\n",
      "File \u001b[0;32m~/Desktop/IoTProject/src/analyzer.py:49\u001b[0m, in \u001b[0;36mAnalyzer.__init__\u001b[0;34m(self, test_subjects, raw_sales_result, raw_loc_result, raw_face_result)\u001b[0m\n\u001b[1;32m     46\u001b[0m \u001b[39mself\u001b[39m\u001b[39m.\u001b[39mtest_subjects \u001b[39m=\u001b[39m test_subjects\n\u001b[1;32m     48\u001b[0m \u001b[39m## List of PANDAS\u001b[39;00m\n\u001b[0;32m---> 49\u001b[0m \u001b[39mself\u001b[39m\u001b[39m.\u001b[39msales_results \u001b[39m=\u001b[39m \u001b[39mself\u001b[39;49m\u001b[39m.\u001b[39;49m_split_sales_according_to_test_subject(raw_test_results\u001b[39m=\u001b[39;49m raw_sales_result)\n\u001b[1;32m     50\u001b[0m \u001b[39mself\u001b[39m\u001b[39m.\u001b[39mloc_results \u001b[39m=\u001b[39m \u001b[39mself\u001b[39m\u001b[39m.\u001b[39m_split_result_according_to_test_subject(raw_test_results\u001b[39m=\u001b[39m raw_loc_result, date_column_name \u001b[39m=\u001b[39m raw_loc_result\u001b[39m.\u001b[39mcolumns(\u001b[39m2\u001b[39m))\n\u001b[1;32m     51\u001b[0m \u001b[39mself\u001b[39m\u001b[39m.\u001b[39mface_results \u001b[39m=\u001b[39m \u001b[39mself\u001b[39m\u001b[39m.\u001b[39m_split_result_according_to_test_subject(raw_test_results\u001b[39m=\u001b[39m raw_face_result, date_column_name \u001b[39m=\u001b[39m raw_face_result\u001b[39m.\u001b[39mcolumns(\u001b[39m2\u001b[39m))\n",
      "File \u001b[0;32m~/Desktop/IoTProject/src/analyzer.py:157\u001b[0m, in \u001b[0;36mAnalyzer._split_sales_according_to_test_subject\u001b[0;34m(self, raw_test_results)\u001b[0m\n\u001b[1;32m    153\u001b[0m             \u001b[39mbreak\u001b[39;00m\n\u001b[1;32m    155\u001b[0m     \u001b[39mreturn\u001b[39;00m name\n\u001b[0;32m--> 157\u001b[0m raw_test_results[\u001b[39m'\u001b[39m\u001b[39mname\u001b[39m\u001b[39m'\u001b[39m] \u001b[39m=\u001b[39m raw_test_results\u001b[39m.\u001b[39;49mapply(\u001b[39mlambda\u001b[39;49;00m x : distinguish_by_time(x), axis \u001b[39m=\u001b[39;49m \u001b[39m1\u001b[39;49m)\n\u001b[1;32m    159\u001b[0m test_results\u001b[39m.\u001b[39mappend(raw_test_results\u001b[39m.\u001b[39mloc[raw_test_results[\u001b[39m'\u001b[39m\u001b[39mname\u001b[39m\u001b[39m'\u001b[39m] \u001b[39m==\u001b[39m \u001b[39mself\u001b[39m\u001b[39m.\u001b[39mtest_subjects[\u001b[39m0\u001b[39m]\u001b[39m.\u001b[39mname])\n\u001b[1;32m    160\u001b[0m test_results\u001b[39m.\u001b[39mappend(raw_test_results\u001b[39m.\u001b[39mloc[raw_test_results[\u001b[39m'\u001b[39m\u001b[39mname\u001b[39m\u001b[39m'\u001b[39m] \u001b[39m==\u001b[39m \u001b[39mself\u001b[39m\u001b[39m.\u001b[39mtest_subjects[\u001b[39m1\u001b[39m]\u001b[39m.\u001b[39mname])\n",
      "File \u001b[0;32m~/.local/lib/python3.10/site-packages/pandas/core/frame.py:9555\u001b[0m, in \u001b[0;36mDataFrame.apply\u001b[0;34m(self, func, axis, raw, result_type, args, **kwargs)\u001b[0m\n\u001b[1;32m   9544\u001b[0m \u001b[39mfrom\u001b[39;00m \u001b[39mpandas\u001b[39;00m\u001b[39m.\u001b[39;00m\u001b[39mcore\u001b[39;00m\u001b[39m.\u001b[39;00m\u001b[39mapply\u001b[39;00m \u001b[39mimport\u001b[39;00m frame_apply\n\u001b[1;32m   9546\u001b[0m op \u001b[39m=\u001b[39m frame_apply(\n\u001b[1;32m   9547\u001b[0m     \u001b[39mself\u001b[39m,\n\u001b[1;32m   9548\u001b[0m     func\u001b[39m=\u001b[39mfunc,\n\u001b[0;32m   (...)\u001b[0m\n\u001b[1;32m   9553\u001b[0m     kwargs\u001b[39m=\u001b[39mkwargs,\n\u001b[1;32m   9554\u001b[0m )\n\u001b[0;32m-> 9555\u001b[0m \u001b[39mreturn\u001b[39;00m op\u001b[39m.\u001b[39;49mapply()\u001b[39m.\u001b[39m__finalize__(\u001b[39mself\u001b[39m, method\u001b[39m=\u001b[39m\u001b[39m\"\u001b[39m\u001b[39mapply\u001b[39m\u001b[39m\"\u001b[39m)\n",
      "File \u001b[0;32m~/.local/lib/python3.10/site-packages/pandas/core/apply.py:746\u001b[0m, in \u001b[0;36mFrameApply.apply\u001b[0;34m(self)\u001b[0m\n\u001b[1;32m    743\u001b[0m \u001b[39melif\u001b[39;00m \u001b[39mself\u001b[39m\u001b[39m.\u001b[39mraw:\n\u001b[1;32m    744\u001b[0m     \u001b[39mreturn\u001b[39;00m \u001b[39mself\u001b[39m\u001b[39m.\u001b[39mapply_raw()\n\u001b[0;32m--> 746\u001b[0m \u001b[39mreturn\u001b[39;00m \u001b[39mself\u001b[39;49m\u001b[39m.\u001b[39;49mapply_standard()\n",
      "File \u001b[0;32m~/.local/lib/python3.10/site-packages/pandas/core/apply.py:873\u001b[0m, in \u001b[0;36mFrameApply.apply_standard\u001b[0;34m(self)\u001b[0m\n\u001b[1;32m    872\u001b[0m \u001b[39mdef\u001b[39;00m \u001b[39mapply_standard\u001b[39m(\u001b[39mself\u001b[39m):\n\u001b[0;32m--> 873\u001b[0m     results, res_index \u001b[39m=\u001b[39m \u001b[39mself\u001b[39;49m\u001b[39m.\u001b[39;49mapply_series_generator()\n\u001b[1;32m    875\u001b[0m     \u001b[39m# wrap results\u001b[39;00m\n\u001b[1;32m    876\u001b[0m     \u001b[39mreturn\u001b[39;00m \u001b[39mself\u001b[39m\u001b[39m.\u001b[39mwrap_results(results, res_index)\n",
      "File \u001b[0;32m~/.local/lib/python3.10/site-packages/pandas/core/apply.py:889\u001b[0m, in \u001b[0;36mFrameApply.apply_series_generator\u001b[0;34m(self)\u001b[0m\n\u001b[1;32m    886\u001b[0m \u001b[39mwith\u001b[39;00m option_context(\u001b[39m\"\u001b[39m\u001b[39mmode.chained_assignment\u001b[39m\u001b[39m\"\u001b[39m, \u001b[39mNone\u001b[39;00m):\n\u001b[1;32m    887\u001b[0m     \u001b[39mfor\u001b[39;00m i, v \u001b[39min\u001b[39;00m \u001b[39menumerate\u001b[39m(series_gen):\n\u001b[1;32m    888\u001b[0m         \u001b[39m# ignore SettingWithCopy here in case the user mutates\u001b[39;00m\n\u001b[0;32m--> 889\u001b[0m         results[i] \u001b[39m=\u001b[39m \u001b[39mself\u001b[39;49m\u001b[39m.\u001b[39;49mf(v)\n\u001b[1;32m    890\u001b[0m         \u001b[39mif\u001b[39;00m \u001b[39misinstance\u001b[39m(results[i], ABCSeries):\n\u001b[1;32m    891\u001b[0m             \u001b[39m# If we have a view on v, we need to make a copy because\u001b[39;00m\n\u001b[1;32m    892\u001b[0m             \u001b[39m#  series_generator will swap out the underlying data\u001b[39;00m\n\u001b[1;32m    893\u001b[0m             results[i] \u001b[39m=\u001b[39m results[i]\u001b[39m.\u001b[39mcopy(deep\u001b[39m=\u001b[39m\u001b[39mFalse\u001b[39;00m)\n",
      "File \u001b[0;32m~/Desktop/IoTProject/src/analyzer.py:157\u001b[0m, in \u001b[0;36mAnalyzer._split_sales_according_to_test_subject.<locals>.<lambda>\u001b[0;34m(x)\u001b[0m\n\u001b[1;32m    153\u001b[0m             \u001b[39mbreak\u001b[39;00m\n\u001b[1;32m    155\u001b[0m     \u001b[39mreturn\u001b[39;00m name\n\u001b[0;32m--> 157\u001b[0m raw_test_results[\u001b[39m'\u001b[39m\u001b[39mname\u001b[39m\u001b[39m'\u001b[39m] \u001b[39m=\u001b[39m raw_test_results\u001b[39m.\u001b[39mapply(\u001b[39mlambda\u001b[39;00m x : distinguish_by_time(x), axis \u001b[39m=\u001b[39m \u001b[39m1\u001b[39m)\n\u001b[1;32m    159\u001b[0m test_results\u001b[39m.\u001b[39mappend(raw_test_results\u001b[39m.\u001b[39mloc[raw_test_results[\u001b[39m'\u001b[39m\u001b[39mname\u001b[39m\u001b[39m'\u001b[39m] \u001b[39m==\u001b[39m \u001b[39mself\u001b[39m\u001b[39m.\u001b[39mtest_subjects[\u001b[39m0\u001b[39m]\u001b[39m.\u001b[39mname])\n\u001b[1;32m    160\u001b[0m test_results\u001b[39m.\u001b[39mappend(raw_test_results\u001b[39m.\u001b[39mloc[raw_test_results[\u001b[39m'\u001b[39m\u001b[39mname\u001b[39m\u001b[39m'\u001b[39m] \u001b[39m==\u001b[39m \u001b[39mself\u001b[39m\u001b[39m.\u001b[39mtest_subjects[\u001b[39m1\u001b[39m]\u001b[39m.\u001b[39mname])\n",
      "File \u001b[0;32m~/Desktop/IoTProject/src/analyzer.py:151\u001b[0m, in \u001b[0;36mAnalyzer._split_sales_according_to_test_subject.<locals>.distinguish_by_time\u001b[0;34m(row)\u001b[0m\n\u001b[1;32m    149\u001b[0m \u001b[39mfor\u001b[39;00m test_subject \u001b[39min\u001b[39;00m \u001b[39mself\u001b[39m\u001b[39m.\u001b[39mtest_subjects:\n\u001b[1;32m    150\u001b[0m     name \u001b[39m=\u001b[39m \u001b[39m\"\u001b[39m\u001b[39m\"\u001b[39m\n\u001b[0;32m--> 151\u001b[0m     \u001b[39mif\u001b[39;00m current_date \u001b[39m>\u001b[39;49m\u001b[39m=\u001b[39;49m test_subject\u001b[39m.\u001b[39;49mtested_from \u001b[39mand\u001b[39;00m current_date \u001b[39m<\u001b[39m\u001b[39m=\u001b[39m test_subject\u001b[39m.\u001b[39mtested_till :\n\u001b[1;32m    152\u001b[0m         name \u001b[39m=\u001b[39m  test_subject\u001b[39m.\u001b[39mname\n\u001b[1;32m    153\u001b[0m         \u001b[39mbreak\u001b[39;00m\n",
      "\u001b[0;31mTypeError\u001b[0m: '>=' not supported between instances of 'int' and 'datetime.datetime'"
     ]
    }
   ],
   "source": [
    "my_analyzer = Analyzer([control_subject, variant_subject], df_point_of_sale, df_local_data, df_face_count)\n"
   ]
  }
 ],
 "metadata": {
  "kernelspec": {
   "display_name": "test0",
   "language": "python",
   "name": "python3"
  },
  "language_info": {
   "codemirror_mode": {
    "name": "ipython",
    "version": 3
   },
   "file_extension": ".py",
   "mimetype": "text/x-python",
   "name": "python",
   "nbconvert_exporter": "python",
   "pygments_lexer": "ipython3",
   "version": "3.10.4"
  },
  "orig_nbformat": 4,
  "vscode": {
   "interpreter": {
    "hash": "3fb28e5f60ac0a265781860a4d5d777f52aa041c474fb0eb8d4ca69097da525c"
   }
  }
 },
 "nbformat": 4,
 "nbformat_minor": 2
}
